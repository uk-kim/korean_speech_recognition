{
 "cells": [
  {
   "cell_type": "markdown",
   "metadata": {},
   "source": [
    "# Data Preparation for KOREAN Datasets\n",
    ". [AIHub](http://www.aihub.or.kr/aidata/105)에서 제공되는 데이터셋에 대한 전처리 및 가공 단계를 다루는 과정입니다."
   ]
  },
  {
   "cell_type": "markdown",
   "metadata": {},
   "source": [
    "## 1. Data Load\n",
    "- Audio File : 16k / PCM / 16bit LE\n",
    "- Transcript File : EUC-KR"
   ]
  },
  {
   "cell_type": "code",
   "execution_count": 34,
   "metadata": {},
   "outputs": [],
   "source": [
    "import os\n",
    "import re\n",
    "import numpy as np"
   ]
  },
  {
   "cell_type": "code",
   "execution_count": 21,
   "metadata": {},
   "outputs": [],
   "source": [
    "audio_ext = \".pcm\"\n",
    "trans_ext = \".txt\"\n",
    "\n",
    "data_dir = \"../data/KsponSpeech_sample/\"\n",
    "data_dir = \"../data/\"\n",
    "\n",
    "SAMPLE_RATE = 16000\n",
    "ENDIAN = \"int16\"\n",
    "ENCODING = \"euc-kr\""
   ]
  },
  {
   "cell_type": "code",
   "execution_count": 37,
   "metadata": {},
   "outputs": [],
   "source": [
    "def get_file_list(path, audio_ext='.pcm', trans_ext='.txt'):\n",
    "    if not os.path.exists(path):\n",
    "        return []\n",
    "    \n",
    "    file_list = []\n",
    "    for _path, _dir, _files in os.walk(path):\n",
    "        for f in _files:\n",
    "            if f[-len(audio_ext):] == audio_ext:\n",
    "                f_name = os.path.join(_path, f[:-len(audio_ext)])\n",
    "                if os.path.exists(f_name + trans_ext):\n",
    "                    file_list.append(f_name)\n",
    "    file_list.sort()\n",
    "    \n",
    "    return file_list\n",
    "\n",
    "def get_transcript(fname, trans_ext='.txt', ENCODING='euc-kr'):\n",
    "    txt = \"\"\n",
    "    try:\n",
    "        with open(fname + trans_ext, 'r', encoding=ENCODING) as f:\n",
    "            txt = f.read().strip()\n",
    "    except Exception as e:\n",
    "        print(\"ERROR: {}\".format(e))\n",
    "    return txt\n",
    "\n",
    "def get_audiobuff(fname, audio_ext='.pcm', ENDIAN='int16'):\n",
    "    buff = None\n",
    "    try:\n",
    "        with open(fname + audio_ext, 'rb') as f:\n",
    "            buff = f.read()\n",
    "        buff = np.frombuffer(buff, dtype=ENDIAN)\n",
    "    except Exception as e:\n",
    "        print(\"ERROR: {}\".format(e))\n",
    "    return buff"
   ]
  },
  {
   "cell_type": "code",
   "execution_count": 38,
   "metadata": {},
   "outputs": [
    {
     "name": "stdout",
     "output_type": "stream",
     "text": [
      " Audio format.     : .pcm\n",
      " Transcript format : .txt\n",
      " Number of files   : 100\n",
      " Head of file list\n",
      "    ../data/KsponSpeech_sample/KsponSpeech_000001\n",
      "    ../data/KsponSpeech_sample/KsponSpeech_000002\n",
      "    ../data/KsponSpeech_sample/KsponSpeech_000003\n",
      "    ../data/KsponSpeech_sample/KsponSpeech_000004\n",
      "    ../data/KsponSpeech_sample/KsponSpeech_000005\n"
     ]
    }
   ],
   "source": [
    "file_list = get_file_list(data_dir, audio_ext, trans_ext)\n",
    "\n",
    "print(\" Audio format.     : {}\".format(audio_ext))\n",
    "print(\" Transcript format : {}\".format(trans_ext))\n",
    "print(\" Number of files   : {}\".format(len(file_list)))\n",
    "print(\" Head of file list\")\n",
    "for f in file_list[:5]:\n",
    "    print(\"   \", f)"
   ]
  },
  {
   "cell_type": "code",
   "execution_count": 43,
   "metadata": {},
   "outputs": [
    {
     "name": "stdout",
     "output_type": "stream",
     "text": [
      " Loaded trans : 아/ 몬 소리야, 그건 또. b/\n",
      " Loaded audio length : 50368\n"
     ]
    }
   ],
   "source": [
    "sample_txt = get_transcript(file_list[0])\n",
    "sample_audio = get_audiobuff(file_list[0])\n",
    "\n",
    "print(\" Loaded trans : {}\".format(sample_txt))\n",
    "print(\" Loaded audio length : {}\".format(len(sample_audio)))"
   ]
  },
  {
   "cell_type": "markdown",
   "metadata": {},
   "source": [
    "## 2. Analyze Transcript\n",
    "<b> Noise </b><br>\n",
    "- b/  : breath   -> 숨소리\n",
    "- n/  : noise    -> 노이즈\n",
    "- l/  : laugh    -> 웃음소리\n",
    "- o/  : occlude  -> 다른 사람의 목소리가 섞여있을 때\n",
    "\n",
    "<b> Number </b><br>\n",
    "ex)\n",
    "- (5대)/(오 대) 그룹이 모여, 자동차 (5대)/(다섯 대)를\n",
    "- (24시간)/(이십 사 시간), (24시간)/(스물 네 시간) -(867-860-2437)/(팔 육 칠 팔 육 공 에 이 사 삼 칠)\n",
    "- (14시)/(십 사 시), (14시)/(열 네 시)부터\n",
    "- (1999년)/(천 구백 구십 구 년)에, (1999년)/(일천 구백 구십 구 년)에\n",
    "\n",
    "<b> ETC </b><br>\n",
    "- '+' : 중복 발성     [AMBIG:DUP]\n",
    "- '*' : 불분명한 발성  [AMBIG:UNK]\n",
    "- 뭐/, 음/, 아/ 등과 같이 [한글]/ 형태의 경우 간투어를 의미함  [GANTU]"
   ]
  },
  {
   "cell_type": "code",
   "execution_count": 57,
   "metadata": {},
   "outputs": [
    {
     "name": "stdout",
     "output_type": "stream",
     "text": [
      "   아/ 몬 소리야, 그건 또. b/\n",
      "   나는 악습은 원래 없어진다+ 없어져야 된다고 생각하긴 했는데 근데 그/ 약간 필요악으로 하나 정도쯤은 있어야 되거든. 물 뜨러 가고.\n",
      "   b/ n/ 그래서 지호랑 계단 n/ 올라와서 b/ 막 위에 운동하는 기구 있대요. b/ 그서 그걸로 운동 할려구요. b/ n/\n",
      "   뭐/ 정신과 병원도 그 약 타서 먹어보고, 그 한동안 연락이 안 된 적이 있었단 말이야. 그때가 언제였 언제였더라?\n",
      "   o/ b/ 그게 (0.1프로)/(영 점 일 프로) 가정의 아이들과 가정의 모습이야? b/\n",
      "   그/ 친애하는 판사님께라는 법+ 법 관련 드라마 알고 있어?\n",
      "   o/ 그래가지고 진짜 차 사야겠다 아니 뭐/ 차 안 되면 스쿠터라도 타야되겠다 막/ 그런 생각 들더라구 그래서 운전은 하는 게 좋은 거 같애 진짜 b/\n",
      "   그래\n",
      "   o/ 나도 몰라. 나 그/ (3G)/(쓰리 쥐)* 하나도 안 봤음. 어.\n",
      "   아/ 내일 나 알바하구나.\n",
      "   n/ 아/ 근데 (1시)/(한 시)에 닫는 게 쫌 아쉽긴 한데 거기 진짜 괜찮은데 b/\n",
      "   맞아. 시간 안에 풀고 약간 이것부터 풀고 요런 식으로 풀어보렴. 이런 거 b/\n",
      "   삼 점대야? 언니가?\n",
      "   한+ 한+ 한 시간에 이 만 원? 거의 이 정도로 이 정도란 말이야. b/\n",
      "   굳이 싶기도 해. 까* 오히려 사원 이런 것보다는 b/ 대신 돔* 먹+ 먹, 음식 거리, 먹거리가 우리 입맛에 좀 더 맞는 거 같고.\n"
     ]
    }
   ],
   "source": [
    "for file in file_list[:15]:\n",
    "    sample_txt = get_transcript(file)\n",
    "    print(\"  \", sample_txt)"
   ]
  },
  {
   "cell_type": "code",
   "execution_count": 60,
   "metadata": {},
   "outputs": [
    {
     "name": "stdout",
     "output_type": "stream",
     "text": [
      "o/ b/ 그게 (0.1프로)/(영 점 일 프로) 가정의 아이들과 가정의 모습이야? b/\n"
     ]
    }
   ],
   "source": [
    "sample_txt = \"o/ b/ 그게 (0.1프로)/(영 점 일 프로) 가정의 아이들과 가정의 모습이야? b/\"\n",
    "print(sample_txt)"
   ]
  },
  {
   "cell_type": "code",
   "execution_count": 102,
   "metadata": {},
   "outputs": [],
   "source": [
    "def normStep1(txt):\n",
    "    # (0.1프로)/(영 점 일 프로) or (3G)/(쓰리 쥐) or (1시)/(한 시) 등과 같은\n",
    "    # (실제 표기)/(발음 표기) 형태의 데이터를 발음 표기의 데이터로 치환하는 함수\n",
    "    args = re.findall(\"\\(.+?\\)/\\(.+?\\)\", txt)\n",
    "    for arg in args:\n",
    "        _arg = re.sub(\"\\(.+?\\)/\", \"\", arg)\n",
    "        _arg = re.sub(\"[\\(\\)]\", \"\", _arg)\n",
    "        txt = txt.replace(arg, _arg)\n",
    "    return txt\n",
    "\n",
    "def normStep2(txt):\n",
    "    # . , ? 등 특수문자 제거\n",
    "    txt = re.sub(\"[.,?]\", \"\", txt)\n",
    "    return txt\n",
    "\n",
    "def normStep3(txt):\n",
    "    # noise symbol을 [NOISE:o], [NOIST:b] 등과 같이 변환\n",
    "    symbol_list = re.findall(\"[a-z]/\", txt)\n",
    "    for symbol in symbol_list:\n",
    "        _symbol = symbol.replace('/', '')\n",
    "        new_symbol = \"[NOISE:{}]\".format(_symbol)\n",
    "        txt = txt.replace(symbol, new_symbol)\n",
    "    return txt\n",
    "\n",
    "def normStep4(txt):\n",
    "    # +, *와 같은 불분명한 symbol에 대한 전처리\n",
    "    txt = re.sub(\"[\\+]\", \"[AMBIG:DUP]\", txt)\n",
    "    txt = re.sub(\"[\\*]\", \"[AMBIG:UNK]\", txt)\n",
    "    return txt\n",
    "    \n",
    "def normStep5(txt):\n",
    "    # 뭐/ 아/ 와 같은 간투어 처리\n",
    "    for _txt in txt.split():\n",
    "        symbol_list = re.findall(\"[가-힣].*?/\", _txt)\n",
    "        for symbol in symbol_list:\n",
    "            new_symbol = symbol.replace('/', '[GANTU]')\n",
    "            txt = txt.replace(symbol, new_symbol)\n",
    "    return txt\n",
    "\n",
    "def normalize(txt):\n",
    "    # step1 : to pronunciation\n",
    "    txt = normStep1(txt)\n",
    "    # step2 : erase special symbol\n",
    "    txt = normStep2(txt)\n",
    "    # step3 : noise tagging\n",
    "    txt = normStep3(txt)\n",
    "    # step4 : ambiguous symbol tagging\n",
    "    txt = normStep4(txt)\n",
    "    # step5 : tagging for GANTU symbol\n",
    "    txt = normStep5(txt)\n",
    "    return txt"
   ]
  },
  {
   "cell_type": "code",
   "execution_count": 110,
   "metadata": {},
   "outputs": [
    {
     "name": "stdout",
     "output_type": "stream",
     "text": [
      "[ 0] input : 아/ 몬 소리야, 그건 또. b/\n",
      "     norm  : 아[GANTU] 몬 소리야 그건 또 [NOISE:b]\n",
      "\n",
      "[ 1] input : 나는 악습은 원래 없어진다+ 없어져야 된다고 생각하긴 했는데 근데 그/ 약간 필요악으로 하나 정도쯤은 있어야 되거든. 물 뜨러 가고.\n",
      "     norm  : 나는 악습은 원래 없어진다[AMBIG:DUP] 없어져야 된다고 생각하긴 했는데 근데 그[GANTU] 약간 필요악으로 하나 정도쯤은 있어야 되거든 물 뜨러 가고\n",
      "\n",
      "[ 2] input : b/ n/ 그래서 지호랑 계단 n/ 올라와서 b/ 막 위에 운동하는 기구 있대요. b/ 그서 그걸로 운동 할려구요. b/ n/\n",
      "     norm  : [NOISE:b] [NOISE:n] 그래서 지호랑 계단 [NOISE:n] 올라와서 [NOISE:b] 막 위에 운동하는 기구 있대요 [NOISE:b] 그서 그걸로 운동 할려구요 [NOISE:b] [NOISE:n]\n",
      "\n",
      "[ 3] input : 뭐/ 정신과 병원도 그 약 타서 먹어보고, 그 한동안 연락이 안 된 적이 있었단 말이야. 그때가 언제였 언제였더라?\n",
      "     norm  : 뭐[GANTU] 정신과 병원도 그 약 타서 먹어보고 그 한동안 연락이 안 된 적이 있었단 말이야 그때가 언제였 언제였더라\n",
      "\n",
      "[ 4] input : o/ b/ 그게 (0.1프로)/(영 점 일 프로) 가정의 아이들과 가정의 모습이야? b/\n",
      "     norm  : [NOISE:o] [NOISE:b] 그게 영 점 일 프로 가정의 아이들과 가정의 모습이야 [NOISE:b]\n",
      "\n",
      "[ 5] input : 그/ 친애하는 판사님께라는 법+ 법 관련 드라마 알고 있어?\n",
      "     norm  : 그[GANTU] 친애하는 판사님께라는 법[AMBIG:DUP] 법 관련 드라마 알고 있어\n",
      "\n",
      "[ 6] input : o/ 그래가지고 진짜 차 사야겠다 아니 뭐/ 차 안 되면 스쿠터라도 타야되겠다 막/ 그런 생각 들더라구 그래서 운전은 하는 게 좋은 거 같애 진짜 b/\n",
      "     norm  : [NOISE:o] 그래가지고 진짜 차 사야겠다 아니 뭐[GANTU] 차 안 되면 스쿠터라도 타야되겠다 막[GANTU] 그런 생각 들더라구 그래서 운전은 하는 게 좋은 거 같애 진짜 [NOISE:b]\n",
      "\n",
      "[ 7] input : 그래\n",
      "     norm  : 그래\n",
      "\n",
      "[ 8] input : o/ 나도 몰라. 나 그/ (3G)/(쓰리 쥐)* 하나도 안 봤음. 어.\n",
      "     norm  : [NOISE:o] 나도 몰라 나 그[GANTU] 쓰리 쥐[AMBIG:UNK] 하나도 안 봤음 어\n",
      "\n",
      "[ 9] input : 아/ 내일 나 알바하구나.\n",
      "     norm  : 아[GANTU] 내일 나 알바하구나\n",
      "\n",
      "[10] input : n/ 아/ 근데 (1시)/(한 시)에 닫는 게 쫌 아쉽긴 한데 거기 진짜 괜찮은데 b/\n",
      "     norm  : [NOISE:n] 아[GANTU] 근데 한 시에 닫는 게 쫌 아쉽긴 한데 거기 진짜 괜찮은데 [NOISE:b]\n",
      "\n",
      "[11] input : 맞아. 시간 안에 풀고 약간 이것부터 풀고 요런 식으로 풀어보렴. 이런 거 b/\n",
      "     norm  : 맞아 시간 안에 풀고 약간 이것부터 풀고 요런 식으로 풀어보렴 이런 거 [NOISE:b]\n",
      "\n",
      "[12] input : 삼 점대야? 언니가?\n",
      "     norm  : 삼 점대야 언니가\n",
      "\n",
      "[13] input : 한+ 한+ 한 시간에 이 만 원? 거의 이 정도로 이 정도란 말이야. b/\n",
      "     norm  : 한[AMBIG:DUP] 한[AMBIG:DUP] 한 시간에 이 만 원 거의 이 정도로 이 정도란 말이야 [NOISE:b]\n",
      "\n",
      "[14] input : 굳이 싶기도 해. 까* 오히려 사원 이런 것보다는 b/ 대신 돔* 먹+ 먹, 음식 거리, 먹거리가 우리 입맛에 좀 더 맞는 거 같고.\n",
      "     norm  : 굳이 싶기도 해 까[AMBIG:UNK] 오히려 사원 이런 것보다는 [NOISE:b] 대신 돔[AMBIG:UNK] 먹[AMBIG:DUP] 먹 음식 거리 먹거리가 우리 입맛에 좀 더 맞는 거 같고\n",
      "\n",
      "[15] input : 아/ 근데 강남 너무 비싸.\n",
      "     norm  : 아[GANTU] 근데 강남 너무 비싸\n",
      "\n",
      "[16] input : 나, 먼저 집에 가께\n",
      "     norm  : 나 먼저 집에 가께\n",
      "\n",
      "[17] input : o/ l/ 해? 아/ 뭔가 효과가 있어 근데?\n",
      "     norm  : [NOISE:o] [NOISE:l] 해 아[GANTU] 뭔가 효과가 있어 근데\n",
      "\n",
      "[18] input : n/ 근데 이+ 나만 안 하는 거 같애. 딴 사람들은 다 하고 l/\n",
      "     norm  : [NOISE:n] 근데 이[AMBIG:DUP] 나만 안 하는 거 같애 딴 사람들은 다 하고 [NOISE:l]\n",
      "\n",
      "[19] input : o/ 아 b/ 설 연휴 때? 집에 있겠네 그럼 거의? b/ 음 그 옆집 사는 애?\n",
      "     norm  : [NOISE:o] 아 [NOISE:b] 설 연휴 때 집에 있겠네 그럼 거의 [NOISE:b] 음 그 옆집 사는 애\n",
      "\n",
      "[20] input : 왜 b/\n",
      "     norm  : 왜 [NOISE:b]\n",
      "\n",
      "[21] input : 무한도전은 완전 폐지돼서 없어졌는데 너는 무한도전을 자주 잘 챙겨 봤어?\n",
      "     norm  : 무한도전은 완전 폐지돼서 없어졌는데 너는 무한도전을 자주 잘 챙겨 봤어\n",
      "\n",
      "[22] input : o/ 나 다음 주에 강릉 가는데 같이 가자. b/ 야, 너 근데 학교 기숙사에서 살면 안 되냐?\n",
      "     norm  : [NOISE:o] 나 다음 주에 강릉 가는데 같이 가자 [NOISE:b] 야 너 근데 학교 기숙사에서 살면 안 되냐\n",
      "\n",
      "[23] input : 목포 너무 비싸, b/ 어, 시외버스도 비싸고, 한 (3만원)/(삼만 원)인가 그럴걸.\n",
      "     norm  : 목포 너무 비싸 [NOISE:b] 어 시외버스도 비싸고 한 삼만 원인가 그럴걸\n",
      "\n",
      "[24] input : 근데 왜 그 집을 기억을 못 해?\n",
      "     norm  : 근데 왜 그 집을 기억을 못 해\n",
      "\n",
      "[25] input : 복싱 안 배워봤어?\n",
      "     norm  : 복싱 안 배워봤어\n",
      "\n",
      "[26] input : o/ 아/ 니가 사주는 거였어?\n",
      "     norm  : [NOISE:o] 아[GANTU] 니가 사주는 거였어\n",
      "\n",
      "[27] input : n/ 과학적 근거가 있는 팩튼지\n",
      "     norm  : [NOISE:n] 과학적 근거가 있는 팩튼지\n",
      "\n",
      "[28] input : 알겠어.\n",
      "     norm  : 알겠어\n",
      "\n",
      "[29] input : 그/ 카레. 뿌라뽕 커리죠. 그/ 카레랑 같이 이렇게 소스만 만드는 법을 좀 배우면 한번 시도해볼 수도 있지 않을까 싶어요. 특히 좀 겨울철에 먹기에 굉장히 좋은 음식인 거 같아요.\n",
      "     norm  : 그[GANTU] 카레 뿌라뽕 커리죠 그[GANTU] 카레랑 같이 이렇게 소스만 만드는 법을 좀 배우면 한번 시도해볼 수도 있지 않을까 싶어요 특히 좀 겨울철에 먹기에 굉장히 좋은 음식인 거 같아요\n",
      "\n",
      "[30] input : o/ 아/ 그건 절대로 안 할 거야.\n",
      "     norm  : [NOISE:o] 아[GANTU] 그건 절대로 안 할 거야\n",
      "\n",
      "[31] input : 그렇긴 했는데\n",
      "     norm  : 그렇긴 했는데\n",
      "\n",
      "[32] input : 아 진짜 그러 에이씨 좋은 학교 다니니까 b/ 그런 것도 배우고 부럽다\n",
      "     norm  : 아 진짜 그러 에이씨 좋은 학교 다니니까 [NOISE:b] 그런 것도 배우고 부럽다\n",
      "\n",
      "[33] input : l/ 불편하잖아, 장갑.\n",
      "     norm  : [NOISE:l] 불편하잖아 장갑\n",
      "\n",
      "[34] input : 응 근데 이거 한 세 시에 끝나니까.\n",
      "     norm  : 응 근데 이거 한 세 시에 끝나니까\n",
      "\n",
      "[35] input : 글쎄.\n",
      "     norm  : 글쎄\n",
      "\n",
      "[36] input : 할머니가 아까 너가 말한 거 같은 복숭아 맛 그런 요플레 l/ 그걸로 해서 드셨던 거 같애.\n",
      "     norm  : 할머니가 아까 너가 말한 거 같은 복숭아 맛 그런 요플레 [NOISE:l] 그걸로 해서 드셨던 거 같애\n",
      "\n",
      "[37] input : o/ b/ 네+ 네. b/\n",
      "     norm  : [NOISE:o] [NOISE:b] 네[AMBIG:DUP] 네 [NOISE:b]\n",
      "\n",
      "[38] input : o/ b/ 어 배우고 연습+ 연습할 시간이 없는데 어떻게 연습을 해요? 라고 여기까지 찼지만 b/ 아/ 네 할게요로 눌러버+ 눌러버렸지. b/\n",
      "     norm  : [NOISE:o] [NOISE:b] 어 배우고 연습[AMBIG:DUP] 연습할 시간이 없는데 어떻게 연습을 해요 라고 여기까지 찼지만 [NOISE:b] 아[GANTU] 네 할게요로 눌러버[AMBIG:DUP] 눌러버렸지 [NOISE:b]\n",
      "\n",
      "[39] input : o/ b/ 대단하다 그런 생각, 난 생각 조차 못 하겠더라. 나는\n",
      "     norm  : [NOISE:o] [NOISE:b] 대단하다 그런 생각 난 생각 조차 못 하겠더라 나는\n",
      "\n",
      "[40] input : o/ 그래. 어차피 먹어야 되니까 인제 음/\n",
      "     norm  : [NOISE:o] 그래 어차피 먹어야 되니까 인제 음[GANTU]\n",
      "\n",
      "[41] input : b/ 빨리 가야 돼.\n",
      "     norm  : [NOISE:b] 빨리 가야 돼\n",
      "\n",
      "[42] input : 헬스는 끝났어?\n",
      "     norm  : 헬스는 끝났어\n",
      "\n",
      "[43] input : 아니야 좀 심했어, 진짜.\n",
      "     norm  : 아니야 좀 심했어 진짜\n",
      "\n",
      "[44] input : 불가리아 그쪽인가?\n",
      "     norm  : 불가리아 그쪽인가\n",
      "\n",
      "[45] input : 전문가용인데, 그/ 막 음너+ 음원 녹음하고 그런 거 올리는 b/ 그런 아이딘가 봐 나 근데 나 잘 모르겠어.\n",
      "     norm  : 전문가용인데 그[GANTU] 막 음너[AMBIG:DUP] 음원 녹음하고 그런 거 올리는 [NOISE:b] 그런 아이딘가 봐 나 근데 나 잘 모르겠어\n",
      "\n",
      "[46] input : o/ 왜 자랐냐고?\n",
      "     norm  : [NOISE:o] 왜 자랐냐고\n",
      "\n",
      "[47] input : 재수를 마치고 지금은 알바를 찾고 있는 거 같아.\n",
      "     norm  : 재수를 마치고 지금은 알바를 찾고 있는 거 같아\n",
      "\n",
      "[48] input : o/ 아이* 근데 b/ 나는 너무 억지 영화* 억지스러운 웃음 유발. 그래가주고 천만 난 갈+ b/ 간다고 생각 안 했거든.\n",
      "     norm  : [NOISE:o] 아이[AMBIG:UNK] 근데 [NOISE:b] 나는 너무 억지 영화[AMBIG:UNK] 억지스러운 웃음 유발 그래가주고 천만 난 갈[AMBIG:DUP] [NOISE:b] 간다고 생각 안 했거든\n",
      "\n",
      "[49] input : b/ 뭐 생각해 논 거 있어? b/\n",
      "     norm  : [NOISE:b] 뭐 생각해 논 거 있어 [NOISE:b]\n",
      "\n"
     ]
    }
   ],
   "source": [
    "for i, file in enumerate(file_list[:50]):\n",
    "    txt = get_transcript(file)\n",
    "    txt_norm = normalize(txt)\n",
    "    print(\"[{0:2d}] input : {1}\".format(i, txt))\n",
    "    print(\"     norm  : {}\".format(txt_norm))\n",
    "    print()"
   ]
  },
  {
   "cell_type": "code",
   "execution_count": 101,
   "metadata": {},
   "outputs": [
    {
     "name": "stdout",
     "output_type": "stream",
     "text": [
      "input : 아/ 몬 소리야, 그건 또. b/\n",
      "step1 : 아/ 몬 소리야, 그건 또. b/\n",
      "step2 : 아/ 몬 소리야 그건 또 b/\n",
      "step3 : 아/ 몬 소리야 그건 또 [NOISE:b]\n",
      "step4 : 아/ 몬 소리야 그건 또 [NOISE:b]\n",
      "step5 : 아[GANTU] 몬 소리야 그건 또 [NOISE:b]\n",
      "\n",
      "input : 나는 악습은 원래 없어진다+ 없어져야 된다고 생각하긴 했는데 근데 그/ 약간 필요악으로 하나 정도쯤은 있어야 되거든. 물 뜨러 가고.\n",
      "step1 : 나는 악습은 원래 없어진다+ 없어져야 된다고 생각하긴 했는데 근데 그/ 약간 필요악으로 하나 정도쯤은 있어야 되거든. 물 뜨러 가고.\n",
      "step2 : 나는 악습은 원래 없어진다+ 없어져야 된다고 생각하긴 했는데 근데 그/ 약간 필요악으로 하나 정도쯤은 있어야 되거든 물 뜨러 가고\n",
      "step3 : 나는 악습은 원래 없어진다+ 없어져야 된다고 생각하긴 했는데 근데 그/ 약간 필요악으로 하나 정도쯤은 있어야 되거든 물 뜨러 가고\n",
      "step4 : 나는 악습은 원래 없어진다[AMBIG:DUP] 없어져야 된다고 생각하긴 했는데 근데 그/ 약간 필요악으로 하나 정도쯤은 있어야 되거든 물 뜨러 가고\n",
      "step5 : 나는 악습은 원래 없어진다[AMBIG:DUP] 없어져야 된다고 생각하긴 했는데 근데 그[GANTU] 약간 필요악으로 하나 정도쯤은 있어야 되거든 물 뜨러 가고\n",
      "\n",
      "input : b/ n/ 그래서 지호랑 계단 n/ 올라와서 b/ 막 위에 운동하는 기구 있대요. b/ 그서 그걸로 운동 할려구요. b/ n/\n",
      "step1 : b/ n/ 그래서 지호랑 계단 n/ 올라와서 b/ 막 위에 운동하는 기구 있대요. b/ 그서 그걸로 운동 할려구요. b/ n/\n",
      "step2 : b/ n/ 그래서 지호랑 계단 n/ 올라와서 b/ 막 위에 운동하는 기구 있대요 b/ 그서 그걸로 운동 할려구요 b/ n/\n",
      "step3 : [NOISE:b] [NOISE:n] 그래서 지호랑 계단 [NOISE:n] 올라와서 [NOISE:b] 막 위에 운동하는 기구 있대요 [NOISE:b] 그서 그걸로 운동 할려구요 [NOISE:b] [NOISE:n]\n",
      "step4 : [NOISE:b] [NOISE:n] 그래서 지호랑 계단 [NOISE:n] 올라와서 [NOISE:b] 막 위에 운동하는 기구 있대요 [NOISE:b] 그서 그걸로 운동 할려구요 [NOISE:b] [NOISE:n]\n",
      "step5 : [NOISE:b] [NOISE:n] 그래서 지호랑 계단 [NOISE:n] 올라와서 [NOISE:b] 막 위에 운동하는 기구 있대요 [NOISE:b] 그서 그걸로 운동 할려구요 [NOISE:b] [NOISE:n]\n",
      "\n",
      "input : 뭐/ 정신과 병원도 그 약 타서 먹어보고, 그 한동안 연락이 안 된 적이 있었단 말이야. 그때가 언제였 언제였더라?\n",
      "step1 : 뭐/ 정신과 병원도 그 약 타서 먹어보고, 그 한동안 연락이 안 된 적이 있었단 말이야. 그때가 언제였 언제였더라?\n",
      "step2 : 뭐/ 정신과 병원도 그 약 타서 먹어보고 그 한동안 연락이 안 된 적이 있었단 말이야 그때가 언제였 언제였더라\n",
      "step3 : 뭐/ 정신과 병원도 그 약 타서 먹어보고 그 한동안 연락이 안 된 적이 있었단 말이야 그때가 언제였 언제였더라\n",
      "step4 : 뭐/ 정신과 병원도 그 약 타서 먹어보고 그 한동안 연락이 안 된 적이 있었단 말이야 그때가 언제였 언제였더라\n",
      "step5 : 뭐[GANTU] 정신과 병원도 그 약 타서 먹어보고 그 한동안 연락이 안 된 적이 있었단 말이야 그때가 언제였 언제였더라\n",
      "\n",
      "input : o/ b/ 그게 (0.1프로)/(영 점 일 프로) 가정의 아이들과 가정의 모습이야? b/\n",
      "step1 : o/ b/ 그게 영 점 일 프로 가정의 아이들과 가정의 모습이야? b/\n",
      "step2 : o/ b/ 그게 영 점 일 프로 가정의 아이들과 가정의 모습이야 b/\n",
      "step3 : [NOISE:o] [NOISE:b] 그게 영 점 일 프로 가정의 아이들과 가정의 모습이야 [NOISE:b]\n",
      "step4 : [NOISE:o] [NOISE:b] 그게 영 점 일 프로 가정의 아이들과 가정의 모습이야 [NOISE:b]\n",
      "step5 : [NOISE:o] [NOISE:b] 그게 영 점 일 프로 가정의 아이들과 가정의 모습이야 [NOISE:b]\n",
      "\n"
     ]
    }
   ],
   "source": [
    "for file in file_list[:5]:\n",
    "    txt = get_transcript(file)\n",
    "    print(\"input : {}\".format(txt))\n",
    "    txt = normStep1(txt)\n",
    "    print(\"step1 : {}\".format(txt))\n",
    "    txt = normStep2(txt)\n",
    "    print(\"step2 : {}\".format(txt))\n",
    "    txt = normStep3(txt)\n",
    "    print(\"step3 : {}\".format(txt))\n",
    "    txt = normStep4(txt)\n",
    "    print(\"step4 : {}\".format(txt))\n",
    "    txt = normStep5(txt)\n",
    "    print(\"step5 : {}\".format(txt))\n",
    "    print()"
   ]
  },
  {
   "cell_type": "code",
   "execution_count": 76,
   "metadata": {},
   "outputs": [
    {
     "data": {
      "text/plain": [
       "[]"
      ]
     },
     "execution_count": 76,
     "metadata": {},
     "output_type": "execute_result"
    }
   ],
   "source": [
    "re.findall(\"[a-z]/\", txt)"
   ]
  },
  {
   "cell_type": "code",
   "execution_count": 70,
   "metadata": {},
   "outputs": [
    {
     "data": {
      "text/plain": [
       "'bbb bbb 그게 영 점 일 프로 가정의 아이들과 가정의 모습이야 bbb'"
      ]
     },
     "execution_count": 70,
     "metadata": {},
     "output_type": "execute_result"
    }
   ],
   "source": [
    "re.sub(\"[a-z]/\", \"bbb\", txt)"
   ]
  },
  {
   "cell_type": "code",
   "execution_count": 100,
   "metadata": {},
   "outputs": [
    {
     "name": "stdout",
     "output_type": "stream",
     "text": [
      "step4 : 뭐/ 정신과[AMBIG:UNK] 병원도[AMBIG:DUP] 그 약[AMBIG:UNK][AMBIG:DUP] 타서\n"
     ]
    }
   ],
   "source": [
    "txt = normStep4(\"뭐/ 정신과* 병원도+ 그 약*+ 타서\")\n",
    "print(\"step4 : {}\".format(txt))"
   ]
  },
  {
   "cell_type": "code",
   "execution_count": 98,
   "metadata": {},
   "outputs": [
    {
     "name": "stdout",
     "output_type": "stream",
     "text": [
      "step3 : 뭐[GANTU] 정신과[GANTU] 병원도 그 약[GANTU] 타서\n"
     ]
    }
   ],
   "source": [
    "txt = normStep5(\"뭐/ 정신과/ 병원도 그 약/ 타서\")\n",
    "print(\"step3 : {}\".format(txt))"
   ]
  },
  {
   "cell_type": "code",
   "execution_count": 95,
   "metadata": {},
   "outputs": [
    {
     "data": {
      "text/plain": [
       "['뭐/', '정신과/', '병원도 그 약/']"
      ]
     },
     "execution_count": 95,
     "metadata": {},
     "output_type": "execute_result"
    }
   ],
   "source": [
    "re.findall(\"[가-힣].*?/\", \"뭐/ 정신과/ 병원도 그 약/ 타서\")"
   ]
  },
  {
   "cell_type": "code",
   "execution_count": 94,
   "metadata": {},
   "outputs": [
    {
     "data": {
      "text/plain": [
       "['뭐 정신과+', '병원도*+']"
      ]
     },
     "execution_count": 94,
     "metadata": {},
     "output_type": "execute_result"
    }
   ],
   "source": [
    "re.findall(\"[가-힣].*?\\+\", \"뭐 정신과+ 병원도*+ 그 약 타서\")"
   ]
  },
  {
   "cell_type": "markdown",
   "metadata": {},
   "source": [
    "## 3. Convert normalized transcript to lexical pronunciation symbol using G2P."
   ]
  },
  {
   "cell_type": "code",
   "execution_count": null,
   "metadata": {},
   "outputs": [],
   "source": []
  }
 ],
 "metadata": {
  "kernelspec": {
   "display_name": "stt_env",
   "language": "python",
   "name": "env"
  },
  "language_info": {
   "codemirror_mode": {
    "name": "ipython",
    "version": 3
   },
   "file_extension": ".py",
   "mimetype": "text/x-python",
   "name": "python",
   "nbconvert_exporter": "python",
   "pygments_lexer": "ipython3",
   "version": "3.6.3"
  }
 },
 "nbformat": 4,
 "nbformat_minor": 4
}
